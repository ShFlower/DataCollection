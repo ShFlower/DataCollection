{
 "cells": [
  {
   "cell_type": "code",
   "execution_count": null,
   "metadata": {},
   "outputs": [],
   "source": []
  }
 ],
 "metadata": {
  "kernelspec": {
   "display_name": "Python 3.10.4 ('DCOct22')",
   "language": "python",
   "name": "python3"
  },
  "language_info": {
   "name": "python",
   "version": "3.10.4"
  },
  "orig_nbformat": 4,
  "vscode": {
   "interpreter": {
    "hash": "682e6901394adddbe3852a927aae7c81fdfb6b644c938eaef62d5837ce0a65b1"
   }
  }
 },
 "nbformat": 4,
 "nbformat_minor": 2
}
