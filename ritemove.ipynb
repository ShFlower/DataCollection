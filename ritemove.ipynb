{
 "cells": [
  {
   "cell_type": "code",
   "execution_count": null,
   "metadata": {},
   "outputs": [],
   "source": []
  },
  {
   "cell_type": "code",
   "execution_count": null,
   "metadata": {},
   "outputs": [],
   "source": [
    "from  utils.ScrapeWebsite import ScrapeWebsite\n",
    "\n",
    "if __name__ == '__main__':\n",
    "    \n",
    "    #On RightMove website\n",
    "    bot = ScrapeWebsite(site_url = 'https://www.rightmove.co.uk/')\n",
    "\n",
    "    "
   ]
  },
  {
   "cell_type": "markdown",
   "metadata": {},
   "source": [
    "cookies_xpath= bot.find_parent_xpath_str(tagname = 'div', \n",
    "                                            attribute = 'class', \n",
    "                                            value = 'optanon-alert-box-wrapper  ')\n",
    "print(cookies_xpath) \n",
    "bot.accept_all_cookies(\"\"\"cookies_xpath\"\"\")                       "
   ]
  },
  {
   "cell_type": "code",
   "execution_count": 19,
   "metadata": {},
   "outputs": [
    {
     "name": "stdout",
     "output_type": "stream",
     "text": [
      "tag=div\n",
      "attribute=class\n",
      "value=optanon-alert-box-wrapper  \n"
     ]
    },
    {
     "ename": "TypeError",
     "evalue": "ScrapeWebsite.accept_all_cookies() missing 1 required positional argument: 'cookie_xpath'",
     "output_type": "error",
     "traceback": [
      "\u001b[1;31m---------------------------------------------------------------------------\u001b[0m",
      "\u001b[1;31mTypeError\u001b[0m                                 Traceback (most recent call last)",
      "Cell \u001b[1;32mIn [19], line 5\u001b[0m\n\u001b[0;32m      1\u001b[0m cookies_xpath\u001b[39m=\u001b[39m bot\u001b[39m.\u001b[39mfind_parent_xpath_str(tagname \u001b[39m=\u001b[39m \u001b[39m'\u001b[39m\u001b[39mdiv\u001b[39m\u001b[39m'\u001b[39m, \n\u001b[0;32m      2\u001b[0m                                             attribute \u001b[39m=\u001b[39m \u001b[39m'\u001b[39m\u001b[39mclass\u001b[39m\u001b[39m'\u001b[39m, \n\u001b[0;32m      3\u001b[0m                                             value \u001b[39m=\u001b[39m \u001b[39m'\u001b[39m\u001b[39moptanon-alert-box-wrapper  \u001b[39m\u001b[39m'\u001b[39m)\n\u001b[0;32m      4\u001b[0m     \u001b[39m#print(cookies_xpath)                        \u001b[39;00m\n\u001b[1;32m----> 5\u001b[0m bot\u001b[39m.\u001b[39;49maccept_all_cookies(cookies_xpath)\n",
      "\u001b[1;31mTypeError\u001b[0m: ScrapeWebsite.accept_all_cookies() missing 1 required positional argument: 'cookie_xpath'"
     ]
    }
   ],
   "source": [
    "cookies_xpath= bot.find_parent_xpath_str(tagname = 'div', \n",
    "                                            attribute = 'class', \n",
    "                                            value = 'optanon-alert-box-wrapper  ')\n",
    "    #print(cookies_xpath)                        \n",
    "bot.accept_all_cookies(cookies_xpath)\n"
   ]
  }
 ],
 "metadata": {
  "kernelspec": {
   "display_name": "Python 3.10.4 ('DCOct22')",
   "language": "python",
   "name": "python3"
  },
  "language_info": {
   "codemirror_mode": {
    "name": "ipython",
    "version": 3
   },
   "file_extension": ".py",
   "mimetype": "text/x-python",
   "name": "python",
   "nbconvert_exporter": "python",
   "pygments_lexer": "ipython3",
   "version": "3.10.4"
  },
  "orig_nbformat": 4,
  "vscode": {
   "interpreter": {
    "hash": "682e6901394adddbe3852a927aae7c81fdfb6b644c938eaef62d5837ce0a65b1"
   }
  }
 },
 "nbformat": 4,
 "nbformat_minor": 2
}
