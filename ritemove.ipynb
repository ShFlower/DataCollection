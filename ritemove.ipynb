{
 "cells": [
  {
   "cell_type": "code",
   "execution_count": null,
   "metadata": {},
   "outputs": [],
   "source": []
  },
  {
   "cell_type": "code",
   "execution_count": 2,
   "metadata": {},
   "outputs": [
    {
     "name": "stdout",
     "output_type": "stream",
     "text": [
      "Within ¼ mile\n"
     ]
    }
   ],
   "source": [
    "from fractions import *\n",
    "fracstr= \"Within \"+ u\"\\u00bc\" +\" mile\"\n",
    "print(fracstr) \n"
   ]
  },
  {
   "cell_type": "code",
   "execution_count": 21,
   "metadata": {},
   "outputs": [
    {
     "name": "stdout",
     "output_type": "stream",
     "text": [
      "/\n",
      "8\n",
      "1\n",
      "2\n",
      "Within ½ mile\n"
     ]
    }
   ],
   "source": [
    "dropdown_value =\"Within 1/2 mile\"\n",
    "special_characters = \"/\"\n",
    "print(special_characters)\n",
    "if any(c in special_characters for c in dropdown_value):\n",
    "    char_position = dropdown_value.find(\"/\")\n",
    "    print(char_position)\n",
    "    print(dropdown_value[char_position-1])\n",
    "    print(dropdown_value[char_position+1])\n",
    "    if (dropdown_value[char_position-1] == '1' and dropdown_value[char_position + 1] == '4'): fracstr = \"Within \"+ u\"\\u00bc\" +\" mile\"\n",
    "    if (dropdown_value[char_position-1] == '1' and dropdown_value[char_position + 1] == '2'): fracstr = \"Within \"+ u\"\\u00bd\" +\" mile\"\n",
    "    print(fracstr)\n",
    "    \n",
    "    #print u'\\u0420\\u043e\\u0441\\u0441\\u0438\\u044f'\n",
    "    \n",
    "    #fracstr= \"Within \"+ u\"\\u00bc\" +\" mile\"\""
   ]
  },
  {
   "cell_type": "code",
   "execution_count": 10,
   "metadata": {},
   "outputs": [
    {
     "name": "stdout",
     "output_type": "stream",
     "text": [
      "//div[contains(@class,'multiSelect-label')]/span\n"
     ]
    }
   ],
   "source": [
    "\n",
    "element_class= 'multiSelect-label'\n",
    "find_element_arg = '//div[contains(@class,' + \"'\"+element_class+\"'\" + ')]/span'\n",
    "print(find_element_arg)"
   ]
  },
  {
   "cell_type": "code",
   "execution_count": 26,
   "metadata": {},
   "outputs": [
    {
     "name": "stdout",
     "output_type": "stream",
     "text": [
      "//div[contains(@class,'multiSelect-label']/span\n"
     ]
    }
   ],
   "source": [
    "tagname = 'div'\n",
    "attribute = 'class'\n",
    "value = 'multiSelect-label'\n",
    "find_element_arg = '//'+tagname+'[contains(@' + attribute+',' + \"'\"+value + \"'\"+ ')]/span'\n",
    "print(find_element_arg)"
   ]
  },
  {
   "cell_type": "code",
   "execution_count": 30,
   "metadata": {},
   "outputs": [
    {
     "name": "stdout",
     "output_type": "stream",
     "text": [
      "//div[data-test='sharedOwnership-dontShow']\n"
     ]
    }
   ],
   "source": [
    "tagname = 'div'\n",
    "attribute = 'data-test'\n",
    "value = 'sharedOwnership-dontShow'\n",
    "\n",
    "find_element_arg = '//'+tagname+'[' + attribute+'=' + \"'\"+value + \"'\"+ ']'\n",
    "print(find_element_arg)\n",
    "\n",
    "#driver.findElement(By.cssSelector(\"div[data-testid='nav-Look up items-item-Look up items']\"));  "
   ]
  },
  {
   "cell_type": "code",
   "execution_count": 5,
   "metadata": {},
   "outputs": [
    {
     "ename": "NameError",
     "evalue": "name 'options' is not defined",
     "output_type": "error",
     "traceback": [
      "\u001b[1;31m---------------------------------------------------------------------------\u001b[0m",
      "\u001b[1;31mNameError\u001b[0m                                 Traceback (most recent call last)",
      "Cell \u001b[1;32mIn [5], line 4\u001b[0m\n\u001b[0;32m      1\u001b[0m \u001b[39mfrom\u001b[39;00m \u001b[39mselenium\u001b[39;00m \u001b[39mimport\u001b[39;00m webdriver\n\u001b[0;32m      2\u001b[0m \u001b[39mfrom\u001b[39;00m \u001b[39mwebdriver_manager\u001b[39;00m\u001b[39m.\u001b[39;00m\u001b[39mchrome\u001b[39;00m \u001b[39mimport\u001b[39;00m ChromeDriverManager\n\u001b[1;32m----> 4\u001b[0m \u001b[39mself\u001b[39m\u001b[39m.\u001b[39mdriver \u001b[39m=\u001b[39m webdriver\u001b[39m.\u001b[39mChrome(ChromeDriverManager()\u001b[39m.\u001b[39minstall(),options\u001b[39m=\u001b[39moptions)\n\u001b[0;32m      5\u001b[0m site_url \u001b[39m=\u001b[39m \u001b[39m'\u001b[39m\u001b[39mhttps://www.rightmove.co.uk/property-for-sale/find.html?locationIdentifier=REGION\u001b[39m\u001b[39m%5E\u001b[39;00m\u001b[39m93961&maxBedrooms=3&minBedrooms=1&maxPrice=1000000&minPrice=50000&radius=0.25&propertyTypes=detached\u001b[39m\u001b[39m%\u001b[39m\u001b[39m2Csemi-detached\u001b[39m\u001b[39m%\u001b[39m\u001b[39m2Cterraced&maxDaysSinceAdded=7&includeSSTC=false&mustHave=garden\u001b[39m\u001b[39m%\u001b[39m\u001b[39m2Cparking&dontShow=retirement\u001b[39m\u001b[39m%\u001b[39m\u001b[39m2CsharedOwnership&furnishTypes=&keywords=\u001b[39m\u001b[39m'\u001b[39m\n\u001b[0;32m      6\u001b[0m \u001b[39mself\u001b[39m\u001b[39m.\u001b[39mdriver\u001b[39m.\u001b[39mget(site_url)\n",
      "\u001b[1;31mNameError\u001b[0m: name 'options' is not defined"
     ]
    }
   ],
   "source": [
    "from selenium import webdriver\n",
    "from webdriver_manager.chrome import ChromeDriverManager\n",
    "\n",
    "self.driver = webdriver.Chrome(ChromeDriverManager().install(),options=options)\n",
    "site_url = 'https://www.rightmove.co.uk/property-for-sale/find.html?locationIdentifier=REGION%5E93961&maxBedrooms=3&minBedrooms=1&maxPrice=1000000&minPrice=50000&radius=0.25&propertyTypes=detached%2Csemi-detached%2Cterraced&maxDaysSinceAdded=7&includeSSTC=false&mustHave=garden%2Cparking&dontShow=retirement%2CsharedOwnership&furnishTypes=&keywords='\n",
    "self.driver.get(site_url)\n",
    "\n",
    "\n",
    "'''def select_page_pagination_buttons_using_select_option(self, element_attribute :str, element_name :str, text_string :str):\n",
    "        find_element_arg = '(//select[@'+ element_attribute + '=' + \"'\" + element_name + \"'\"  + ']/option[text()=' + \"'\" + text_string + \"'\" +'])'\n",
    "        print(find_element_arg)\n",
    "        dropdown_element = self.driver.find_element (By.XPATH,find_element_arg)\n",
    "        dropdown_element.click()\n",
    "        time.sleep(1)'''"
   ]
  }
 ],
 "metadata": {
  "kernelspec": {
   "display_name": "Python 3.10.4 ('DCOct22')",
   "language": "python",
   "name": "python3"
  },
  "language_info": {
   "codemirror_mode": {
    "name": "ipython",
    "version": 3
   },
   "file_extension": ".py",
   "mimetype": "text/x-python",
   "name": "python",
   "nbconvert_exporter": "python",
   "pygments_lexer": "ipython3",
   "version": "3.10.4"
  },
  "orig_nbformat": 4,
  "vscode": {
   "interpreter": {
    "hash": "682e6901394adddbe3852a927aae7c81fdfb6b644c938eaef62d5837ce0a65b1"
   }
  }
 },
 "nbformat": 4,
 "nbformat_minor": 2
}
