{
 "cells": [
  {
   "cell_type": "code",
   "execution_count": null,
   "metadata": {},
   "outputs": [],
   "source": []
  },
  {
   "cell_type": "code",
   "execution_count": 2,
   "metadata": {},
   "outputs": [
    {
     "name": "stdout",
     "output_type": "stream",
     "text": [
      "Within ¼ mile\n"
     ]
    }
   ],
   "source": [
    "from fractions import *\n",
    "fracstr= \"Within \"+ u\"\\u00bc\" +\" mile\"\n",
    "print(fracstr) \n"
   ]
  },
  {
   "cell_type": "code",
   "execution_count": 21,
   "metadata": {},
   "outputs": [
    {
     "name": "stdout",
     "output_type": "stream",
     "text": [
      "/\n",
      "8\n",
      "1\n",
      "2\n",
      "Within ½ mile\n"
     ]
    }
   ],
   "source": [
    "dropdown_value =\"Within 1/2 mile\"\n",
    "special_characters = \"/\"\n",
    "print(special_characters)\n",
    "if any(c in special_characters for c in dropdown_value):\n",
    "    char_position = dropdown_value.find(\"/\")\n",
    "    print(char_position)\n",
    "    print(dropdown_value[char_position-1])\n",
    "    print(dropdown_value[char_position+1])\n",
    "    if (dropdown_value[char_position-1] == '1' and dropdown_value[char_position + 1] == '4'): fracstr = \"Within \"+ u\"\\u00bc\" +\" mile\"\n",
    "    if (dropdown_value[char_position-1] == '1' and dropdown_value[char_position + 1] == '2'): fracstr = \"Within \"+ u\"\\u00bd\" +\" mile\"\n",
    "    print(fracstr)\n",
    "    \n",
    "    #print u'\\u0420\\u043e\\u0441\\u0441\\u0438\\u044f'\n",
    "    \n",
    "    #fracstr= \"Within \"+ u\"\\u00bc\" +\" mile\"\""
   ]
  },
  {
   "cell_type": "code",
   "execution_count": 10,
   "metadata": {},
   "outputs": [
    {
     "name": "stdout",
     "output_type": "stream",
     "text": [
      "//div[contains(@class,'multiSelect-label')]/span\n"
     ]
    }
   ],
   "source": [
    "\n",
    "element_class= 'multiSelect-label'\n",
    "find_element_arg = '//div[contains(@class,' + \"'\"+element_class+\"'\" + ')]/span'\n",
    "print(find_element_arg)"
   ]
  },
  {
   "cell_type": "code",
   "execution_count": 26,
   "metadata": {},
   "outputs": [
    {
     "name": "stdout",
     "output_type": "stream",
     "text": [
      "//div[contains(@class,'multiSelect-label']/span\n"
     ]
    }
   ],
   "source": [
    "tagname = 'div'\n",
    "attribute = 'class'\n",
    "value = 'multiSelect-label'\n",
    "find_element_arg = '//'+tagname+'[contains(@' + attribute+',' + \"'\"+value + \"'\"+ ')]/span'\n",
    "print(find_element_arg)"
   ]
  },
  {
   "cell_type": "code",
   "execution_count": 30,
   "metadata": {},
   "outputs": [
    {
     "name": "stdout",
     "output_type": "stream",
     "text": [
      "//div[data-test='sharedOwnership-dontShow']\n"
     ]
    }
   ],
   "source": [
    "tagname = 'div'\n",
    "attribute = 'data-test'\n",
    "value = 'sharedOwnership-dontShow'\n",
    "\n",
    "find_element_arg = '//'+tagname+'[' + attribute+'=' + \"'\"+value + \"'\"+ ']'\n",
    "print(find_element_arg)\n",
    "\n",
    "#driver.findElement(By.cssSelector(\"div[data-testid='nav-Look up items-item-Look up items']\"));  "
   ]
  },
  {
   "cell_type": "code",
   "execution_count": 35,
   "metadata": {},
   "outputs": [
    {
     "name": "stdout",
     "output_type": "stream",
     "text": [
      "\"//div[contains(@data-set,'mustHave')]\"\n"
     ]
    }
   ],
   "source": [
    "tagname ='div' \n",
    "tag_attribute ='class'\n",
    "tag_attribute_value  = 'multiSelect-option multiSelect-option--selected'\n",
    "object_attribute='data-test'\n",
    "object_attribute_value  = 'mustHave'\n",
    "\n",
    "find_element_arg = '\"//'+tagname+'[contains(@' + object_attribute+',' + \"'\"+object_attribute_value + \"'\"+ ')]\"'\n",
    "print(find_element_arg)\n",
    "\n"
   ]
  },
  {
   "cell_type": "code",
   "execution_count": 7,
   "metadata": {},
   "outputs": [
    {
     "name": "stdout",
     "output_type": "stream",
     "text": [
      "(f\"//select[@name='radius']/option[text()='Within 1/4 mile']\")\n"
     ]
    }
   ],
   "source": [
    "element_attribute = 'name'\n",
    "element_name = 'radius'\n",
    "dropdown_value = 'Within 1/4 mile'\n",
    "#works bot.set_dropdown_using_unicode_for_fractions(element_id ='radius', dropdown_value = 'Within 1/4 mile')\n",
    "#works dropdown_element = self.driver.find_element (By.XPATH, (f\"//select[@name='radius']/option[text()='{dropdown_value}']\"))\n",
    "find_element_arg = '(f\"//select[@'+ element_attribute + '=' + \"'\" + element_name + \"'\" + ']/option[text()=' + \"'\" + dropdown_value + \"'\" +']\")'\n",
    "print(find_element_arg)\n",
    "\n"
   ]
  }
 ],
 "metadata": {
  "kernelspec": {
   "display_name": "Python 3.10.4 ('DCOct22')",
   "language": "python",
   "name": "python3"
  },
  "language_info": {
   "codemirror_mode": {
    "name": "ipython",
    "version": 3
   },
   "file_extension": ".py",
   "mimetype": "text/x-python",
   "name": "python",
   "nbconvert_exporter": "python",
   "pygments_lexer": "ipython3",
   "version": "3.10.4"
  },
  "orig_nbformat": 4,
  "vscode": {
   "interpreter": {
    "hash": "682e6901394adddbe3852a927aae7c81fdfb6b644c938eaef62d5837ce0a65b1"
   }
  }
 },
 "nbformat": 4,
 "nbformat_minor": 2
}
